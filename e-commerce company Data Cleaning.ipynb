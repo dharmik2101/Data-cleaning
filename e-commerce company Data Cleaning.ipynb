{
 "cells": [
  {
   "cell_type": "markdown",
   "metadata": {},
   "source": [
    "Column\tDescription\n",
    "\n",
    "order_id:\tUnique identifier for each order.\n",
    "\n",
    "customer_id:\tUnique identifier for each customer.\n",
    "\n",
    "product_id:\tUnique identifier for each product.\n",
    "\n",
    "product_name:\tName of the product.\n",
    "\n",
    "category:\tProduct category (e.g., Electronics, Apparel).\n",
    "\n",
    "price:\tPrice of the product.\n",
    "\n",
    "quantity:\tQuantity of the product ordered.\n",
    "\n",
    "order_date:\tDate of the order.\n",
    "\n",
    "delivery_date:\tDate when the product was delivered.\n",
    "\n",
    "rating:\tCustomer rating for the product (1-5).\n",
    "\n",
    "discount:\tDiscount applied to the product (percentage)."
   ]
  },
  {
   "cell_type": "code",
   "execution_count": 1,
   "metadata": {},
   "outputs": [
    {
     "name": "stdout",
     "output_type": "stream",
     "text": [
      "Initial Dataset:\n",
      "  order_id customer_id product_id product_name     category   price  quantity  \\\n",
      "0   ORD001        C001       P001       Laptop  Electronics  1000.0       1.0   \n",
      "1   ORD002        C002       P002   Smartphone  Electronics   500.0       2.0   \n",
      "2   ORD003        C003       P003   Headphones  Electronics   100.0       1.0   \n",
      "3   ORD004        None       P004   Smartwatch  Electronics   200.0       1.0   \n",
      "4   ORD005        C005       P005       Tablet         None   300.0       2.0   \n",
      "5   ORD006        C006       P006       Camera  Electronics     NaN       1.0   \n",
      "6   ORD007        C007       None        Drone  Electronics   800.0       1.0   \n",
      "7   ORD008        C003       P003   Headphones  Electronics   100.0       NaN   \n",
      "\n",
      "   order_date delivery_date  rating  discount  \n",
      "0  2024-01-01    2024-01-05     5.0      10.0  \n",
      "1  2024-01-02    2024-01-06     4.0      20.0  \n",
      "2        None    2024-01-10     NaN       0.0  \n",
      "3  2024-01-04    2024-01-08     3.0       5.0  \n",
      "4  2024-01-05          None     5.0       NaN  \n",
      "5  2024-01-06    2024-01-10     4.0      15.0  \n",
      "6  2024-01-07    2024-01-12     5.0      10.0  \n",
      "7  2024-01-02    2024-01-10     5.0       0.0  \n"
     ]
    }
   ],
   "source": [
    "import pandas as pd\n",
    "import numpy as np\n",
    "\n",
    "# Sample dataset creation\n",
    "data = {\n",
    "    'order_id': ['ORD001', 'ORD002', 'ORD003', 'ORD004', 'ORD005', 'ORD006', 'ORD007', 'ORD008'],\n",
    "    'customer_id': ['C001', 'C002', 'C003', None, 'C005', 'C006', 'C007', 'C003'],\n",
    "    'product_id': ['P001', 'P002', 'P003', 'P004', 'P005', 'P006', None, 'P003'],\n",
    "    'product_name': ['Laptop', 'Smartphone', 'Headphones', 'Smartwatch', 'Tablet', 'Camera', 'Drone', 'Headphones'],\n",
    "    'category': ['Electronics', 'Electronics', 'Electronics', 'Electronics', None, 'Electronics', 'Electronics', 'Electronics'],\n",
    "    'price': [1000, 500, 100, 200, 300, None, 800, 100],\n",
    "    'quantity': [1, 2, 1, 1, 2, 1, 1, None],\n",
    "    'order_date': ['2024-01-01', '2024-01-02', None, '2024-01-04', '2024-01-05', '2024-01-06', '2024-01-07', '2024-01-02'],\n",
    "    'delivery_date': ['2024-01-05', '2024-01-06', '2024-01-10', '2024-01-08', None, '2024-01-10', '2024-01-12', '2024-01-10'],\n",
    "    'rating': [5, 4, None, 3, 5, 4, 5, 5],\n",
    "    'discount': [10, 20, 0, 5, None, 15, 10, 0]\n",
    "}\n",
    "\n",
    "df = pd.DataFrame(data)\n",
    "\n",
    "# Initial inspection\n",
    "print(\"Initial Dataset:\")\n",
    "print(df)\n"
   ]
  },
  {
   "cell_type": "code",
   "execution_count": 2,
   "metadata": {},
   "outputs": [
    {
     "name": "stdout",
     "output_type": "stream",
     "text": [
      "\n",
      "After Handling Missing Values:\n",
      "  order_id customer_id product_id product_name     category   price  quantity  \\\n",
      "0   ORD001        C001       P001       Laptop  Electronics  1000.0       1.0   \n",
      "1   ORD002        C002       P002   Smartphone  Electronics   500.0       2.0   \n",
      "5   ORD006        C006       P006       Camera  Electronics   300.0       1.0   \n",
      "7   ORD008        C003       P003   Headphones  Electronics   100.0       1.0   \n",
      "\n",
      "   order_date delivery_date  rating  discount  \n",
      "0  2024-01-01    2024-01-05     5.0      10.0  \n",
      "1  2024-01-02    2024-01-06     4.0      20.0  \n",
      "5  2024-01-06    2024-01-10     4.0      15.0  \n",
      "7  2024-01-02    2024-01-10     5.0       0.0  \n"
     ]
    }
   ],
   "source": [
    "# Drop rows with missing `customer_id` or `product_id`\n",
    "df = df.dropna(subset=['customer_id', 'product_id'])\n",
    "\n",
    "# Replace missing `category` with \"Unknown\"\n",
    "df['category'] = df['category'].fillna('Unknown')\n",
    "\n",
    "# Fill missing `price` and `quantity` with median\n",
    "df['price'] = df['price'].fillna(df['price'].median())\n",
    "df['quantity'] = df['quantity'].fillna(df['quantity'].median())\n",
    "\n",
    "# Drop rows with missing `order_date` or `delivery_date`\n",
    "df = df.dropna(subset=['order_date', 'delivery_date'])\n",
    "\n",
    "# Fill missing `rating` and `discount` with default values\n",
    "df['rating'] = df['rating'].fillna(3)\n",
    "df['discount'] = df['discount'].fillna(0)\n",
    "\n",
    "print(\"\\nAfter Handling Missing Values:\")\n",
    "print(df)\n"
   ]
  },
  {
   "cell_type": "code",
   "execution_count": 3,
   "metadata": {},
   "outputs": [
    {
     "name": "stdout",
     "output_type": "stream",
     "text": [
      "\n",
      "After Removing Duplicates:\n",
      "  order_id customer_id product_id product_name     category   price  quantity  \\\n",
      "0   ORD001        C001       P001       Laptop  Electronics  1000.0       1.0   \n",
      "1   ORD002        C002       P002   Smartphone  Electronics   500.0       2.0   \n",
      "5   ORD006        C006       P006       Camera  Electronics   300.0       1.0   \n",
      "7   ORD008        C003       P003   Headphones  Electronics   100.0       1.0   \n",
      "\n",
      "   order_date delivery_date  rating  discount  \n",
      "0  2024-01-01    2024-01-05     5.0      10.0  \n",
      "1  2024-01-02    2024-01-06     4.0      20.0  \n",
      "5  2024-01-06    2024-01-10     4.0      15.0  \n",
      "7  2024-01-02    2024-01-10     5.0       0.0  \n"
     ]
    }
   ],
   "source": [
    "# Drop duplicate rows based on `order_id`\n",
    "df = df.drop_duplicates(subset='order_id')\n",
    "\n",
    "print(\"\\nAfter Removing Duplicates:\")\n",
    "print(df)\n"
   ]
  },
  {
   "cell_type": "code",
   "execution_count": 4,
   "metadata": {},
   "outputs": [
    {
     "name": "stdout",
     "output_type": "stream",
     "text": [
      "\n",
      "After Correcting Data Types:\n",
      "order_id                 object\n",
      "customer_id              object\n",
      "product_id               object\n",
      "product_name             object\n",
      "category                 object\n",
      "price                   float64\n",
      "quantity                float64\n",
      "order_date       datetime64[ns]\n",
      "delivery_date    datetime64[ns]\n",
      "rating                  float64\n",
      "discount                float64\n",
      "dtype: object\n"
     ]
    }
   ],
   "source": [
    "# Convert `order_date` and `delivery_date` to datetime\n",
    "df['order_date'] = pd.to_datetime(df['order_date'])\n",
    "df['delivery_date'] = pd.to_datetime(df['delivery_date'])\n",
    "\n",
    "# Ensure `price`, `quantity`, `rating`, and `discount` are numeric\n",
    "df['price'] = pd.to_numeric(df['price'])\n",
    "df['quantity'] = pd.to_numeric(df['quantity'])\n",
    "df['rating'] = pd.to_numeric(df['rating'])\n",
    "df['discount'] = pd.to_numeric(df['discount'])\n",
    "\n",
    "print(\"\\nAfter Correcting Data Types:\")\n",
    "print(df.dtypes)\n"
   ]
  },
  {
   "cell_type": "code",
   "execution_count": 5,
   "metadata": {},
   "outputs": [
    {
     "name": "stdout",
     "output_type": "stream",
     "text": [
      "\n",
      "After Handling Outliers:\n",
      "  order_id customer_id product_id product_name     category  price  quantity  \\\n",
      "0   ORD001        C001       P001       Laptop  Electronics  925.0      1.00   \n",
      "1   ORD002        C002       P002   Smartphone  Electronics  500.0      1.85   \n",
      "5   ORD006        C006       P006       Camera  Electronics  300.0      1.00   \n",
      "7   ORD008        C003       P003   Headphones  Electronics  100.0      1.00   \n",
      "\n",
      "  order_date delivery_date  rating  discount  \n",
      "0 2024-01-01    2024-01-05     5.0      10.0  \n",
      "1 2024-01-02    2024-01-06     4.0      20.0  \n",
      "5 2024-01-06    2024-01-10     4.0      15.0  \n",
      "7 2024-01-02    2024-01-10     5.0       0.0  \n"
     ]
    }
   ],
   "source": [
    "# Cap `price` and `quantity` at the 95th percentile\n",
    "price_cap = df['price'].quantile(0.95)\n",
    "quantity_cap = df['quantity'].quantile(0.95)\n",
    "df['price'] = df['price'].clip(upper=price_cap)\n",
    "df['quantity'] = df['quantity'].clip(upper=quantity_cap)\n",
    "\n",
    "# Restrict `discount` to a maximum of 50%\n",
    "df['discount'] = df['discount'].clip(upper=50)\n",
    "\n",
    "print(\"\\nAfter Handling Outliers:\")\n",
    "print(df)\n"
   ]
  },
  {
   "cell_type": "code",
   "execution_count": 6,
   "metadata": {},
   "outputs": [
    {
     "name": "stdout",
     "output_type": "stream",
     "text": [
      "\n",
      "After Feature Engineering:\n",
      "  order_id customer_id product_id product_name     category  price  quantity  \\\n",
      "0   ORD001        C001       P001       Laptop  Electronics  925.0      1.00   \n",
      "1   ORD002        C002       P002   Smartphone  Electronics  500.0      1.85   \n",
      "5   ORD006        C006       P006       Camera  Electronics  300.0      1.00   \n",
      "7   ORD008        C003       P003   Headphones  Electronics  100.0      1.00   \n",
      "\n",
      "  order_date delivery_date  rating  discount  total_cost  delivery_time  \n",
      "0 2024-01-01    2024-01-05     5.0      10.0       832.5              4  \n",
      "1 2024-01-02    2024-01-06     4.0      20.0       740.0              4  \n",
      "5 2024-01-06    2024-01-10     4.0      15.0       255.0              4  \n",
      "7 2024-01-02    2024-01-10     5.0       0.0       100.0              8  \n"
     ]
    }
   ],
   "source": [
    "# Calculate total cost\n",
    "df['total_cost'] = df['price'] * df['quantity'] * (1 - df['discount'] / 100)\n",
    "\n",
    "# Calculate delivery time\n",
    "df['delivery_time'] = (df['delivery_date'] - df['order_date']).dt.days\n",
    "\n",
    "print(\"\\nAfter Feature Engineering:\")\n",
    "print(df)\n"
   ]
  },
  {
   "cell_type": "code",
   "execution_count": 7,
   "metadata": {},
   "outputs": [
    {
     "name": "stdout",
     "output_type": "stream",
     "text": [
      "\n",
      "After Filtering Irrelevant Data:\n",
      "  order_id customer_id product_id product_name     category  price  quantity  \\\n",
      "0   ORD001        C001       P001       Laptop  Electronics  925.0      1.00   \n",
      "1   ORD002        C002       P002   Smartphone  Electronics  500.0      1.85   \n",
      "5   ORD006        C006       P006       Camera  Electronics  300.0      1.00   \n",
      "7   ORD008        C003       P003   Headphones  Electronics  100.0      1.00   \n",
      "\n",
      "  order_date delivery_date  rating  discount  total_cost  delivery_time  \n",
      "0 2024-01-01    2024-01-05     5.0      10.0       832.5              4  \n",
      "1 2024-01-02    2024-01-06     4.0      20.0       740.0              4  \n",
      "5 2024-01-06    2024-01-10     4.0      15.0       255.0              4  \n",
      "7 2024-01-02    2024-01-10     5.0       0.0       100.0              8  \n"
     ]
    }
   ],
   "source": [
    "# Filter invalid rows\n",
    "df = df[df['total_cost'] > 0]\n",
    "df = df[df['delivery_time'] >= 0]\n",
    "\n",
    "print(\"\\nAfter Filtering Irrelevant Data:\")\n",
    "print(df)\n"
   ]
  }
 ],
 "metadata": {
  "kernelspec": {
   "display_name": "Python 3",
   "language": "python",
   "name": "python3"
  },
  "language_info": {
   "codemirror_mode": {
    "name": "ipython",
    "version": 3
   },
   "file_extension": ".py",
   "mimetype": "text/x-python",
   "name": "python",
   "nbconvert_exporter": "python",
   "pygments_lexer": "ipython3",
   "version": "3.11.9"
  }
 },
 "nbformat": 4,
 "nbformat_minor": 2
}
